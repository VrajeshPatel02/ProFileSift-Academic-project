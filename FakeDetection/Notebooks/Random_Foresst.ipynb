{
 "cells": [
  {
   "cell_type": "code",
   "execution_count": 1,
   "metadata": {
    "id": "JcpCU_kt5Ek4"
   },
   "outputs": [
    {
     "name": "stderr",
     "output_type": "stream",
     "text": [
      "C:\\temp\\lib\\site-packages\\scipy\\__init__.py:146: UserWarning: A NumPy version >=1.16.5 and <1.23.0 is required for this version of SciPy (detected version 1.24.3\n",
      "  warnings.warn(f\"A NumPy version >={np_minversion} and <{np_maxversion}\"\n"
     ]
    }
   ],
   "source": [
    "import sys\n",
    "import csv\n",
    "import datetime\n",
    "import tweepy\n",
    "import numpy as np\n",
    "import pandas as pd\n",
    "import matplotlib.pyplot as plt\n",
    "from datetime import datetime\n",
    "from sklearn.impute import SimpleImputer\n",
    "from sklearn.model_selection import cross_validate\n",
    "from sklearn import metrics\n",
    "from sklearn import preprocessing\n",
    "from sklearn.metrics import roc_curve, auc\n",
    "from  sklearn.ensemble import RandomForestClassifier\n",
    "from sklearn.model_selection import StratifiedKFold, train_test_split\n",
    "from sklearn.model_selection import GridSearchCV\n",
    "from sklearn.metrics import accuracy_score\n",
    "from sklearn.model_selection import learning_curve\n",
    "from sklearn.metrics import classification_report\n",
    "from sklearn.metrics import confusion_matrix\n",
    "from sklearn.model_selection import cross_val_score"
   ]
  },
  {
   "cell_type": "code",
   "execution_count": 2,
   "metadata": {
    "id": "Ts3UbiI95WcZ"
   },
   "outputs": [],
   "source": [
    "def read_datasets():\n",
    "    \"\"\" Reads users profile from csv files \"\"\"\n",
    "    genuine_users = pd.read_csv(\"users.csv\")\n",
    "    fake_users = pd.read_csv(\"fusers.csv\")\n",
    "    # print genuine_users.columns\n",
    "    # print genuine_users.describe()\n",
    "    # print fake_users.describe()\n",
    "    x=pd.concat([genuine_users,fake_users])\n",
    "    y=len(fake_users)*[0] + len(genuine_users)*[1]\n",
    "    return x,y"
   ]
  },
  {
   "cell_type": "code",
   "execution_count": 3,
   "metadata": {
    "id": "pH5bfWms623l"
   },
   "outputs": [],
   "source": [
    "def plot_learning_curve(estimator, title, X, y, ylim=None, cv=None,\n",
    "                        n_jobs=1, train_sizes=np.linspace(.1, 1.0, 5)):\n",
    "\n",
    "    plt.figure()\n",
    "    plt.title(title)\n",
    "    if ylim is not None:\n",
    "        plt.ylim(*ylim)\n",
    "    plt.xlabel(\"Training examples\")\n",
    "    plt.ylabel(\"Score\")\n",
    "    train_sizes, train_scores, test_scores = learning_curve(\n",
    "        estimator, X, y, cv=cv, n_jobs=n_jobs, train_sizes=train_sizes)\n",
    "    train_scores_mean = np.mean(train_scores, axis=1)\n",
    "    train_scores_std = np.std(train_scores, axis=1)\n",
    "    test_scores_mean = np.mean(test_scores, axis=1)\n",
    "    test_scores_std = np.std(test_scores, axis=1)\n",
    "    plt.grid()\n",
    "\n",
    "    plt.fill_between(train_sizes, train_scores_mean - train_scores_std,\n",
    "                     train_scores_mean + train_scores_std, alpha=0.1,\n",
    "                     color=\"r\")\n",
    "    plt.fill_between(train_sizes, test_scores_mean - test_scores_std,\n",
    "                     test_scores_mean + test_scores_std, alpha=0.1, color=\"g\")\n",
    "    plt.plot(train_sizes, train_scores_mean, 'o-', color=\"r\",\n",
    "             label=\"Training score\")\n",
    "    plt.plot(train_sizes, test_scores_mean, 'o-', color=\"g\",\n",
    "             label=\"Cross-validation score\")\n",
    "\n",
    "    plt.legend(loc=\"best\")\n",
    "    return plt"
   ]
  },
  {
   "cell_type": "code",
   "execution_count": 4,
   "metadata": {},
   "outputs": [],
   "source": [
    "# def predict_sex(name):\n",
    "#     d = gender.Detector()\n",
    "#     first_name = name.str.split(' ').str.get(0)\n",
    "#     sex = first_name.apply(d.get_gender)\n",
    "#     sex_dict = {'female': -2, 'mostly_female': -1, 'unknown': 0, 'mostly_male': 1, 'male': 2}\n",
    "#     sex_code = sex.map(sex_dict).astype(int)\n",
    "#     return sex_code"
   ]
  },
  {
   "cell_type": "code",
   "execution_count": 5,
   "metadata": {
    "id": "uyWve0kR68b2"
   },
   "outputs": [],
   "source": [
    "def plot_confusion_matrix(cm, title='Confusion matrix', cmap=plt.cm.Blues):\n",
    "    target_names=['Fake','Genuine']\n",
    "    plt.imshow(cm, interpolation='nearest', cmap=cmap)\n",
    "    plt.title(title)\n",
    "    plt.colorbar()\n",
    "    tick_marks = np.arange(len(target_names))\n",
    "    plt.xticks(tick_marks, target_names, rotation=45)\n",
    "    plt.yticks(tick_marks, target_names)\n",
    "    plt.tight_layout()\n",
    "    plt.ylabel('True label')\n",
    "    plt.xlabel('Predicted label')"
   ]
  },
  {
   "cell_type": "code",
   "execution_count": 6,
   "metadata": {
    "id": "iJFTYMsT6_5N"
   },
   "outputs": [],
   "source": [
    "def plot_roc_curve(y_test, y_pred):\n",
    "    false_positive_rate, true_positive_rate, thresholds = roc_curve(y_test, y_pred)\n",
    "\n",
    "    print (\"False Positive rate: \",false_positive_rate)\n",
    "    print (\"True Positive rate: \",true_positive_rate)\n",
    "\n",
    "\n",
    "    roc_auc = auc(false_positive_rate, true_positive_rate)\n",
    "\n",
    "    plt.title('Receiver Operating Characteristic')\n",
    "    plt.plot(false_positive_rate, true_positive_rate, 'b',label='AUC = %0.2f'% roc_auc)\n",
    "    plt.legend(loc='lower right')\n",
    "    plt.plot([0,1],[0,1],'r--')\n",
    "    plt.xlim([-0.1,1.2])\n",
    "    plt.ylim([-0.1,1.2])\n",
    "    plt.ylabel('True Positive Rate')\n",
    "    plt.xlabel('False Positive Rate')\n",
    "    plt.show()"
   ]
  },
  {
   "cell_type": "code",
   "execution_count": 7,
   "metadata": {
    "id": "4khc0WCw7Oq_"
   },
   "outputs": [],
   "source": [
    "def train(X_train,y_train,X_test):\n",
    "    \"\"\" Trains and predicts dataset with a Random Forest classifier \"\"\"\n",
    "\n",
    "    clf=RandomForestClassifier(n_estimators=40,oob_score=True)\n",
    "    clf.fit(X_train,y_train)\n",
    "    print(\"The best classifier is: \",clf)\n",
    "    # Estimate score\n",
    "    scores = cross_val_score(clf, X_train, y_train, cv=5)\n",
    "    print(scores)\n",
    "    print('Estimated score: %0.5f (+/- %0.5f)' % (scores.mean(), scores.std() / 2))\n",
    "    title = 'Learning Curves (Random Forest)'\n",
    "    plot_learning_curve(clf, title, X_train, y_train, cv=5)\n",
    "    plt.show()\n",
    "    # Predict\n",
    "    y_pred = clf.predict(X_test)\n",
    "    return y_test,y_pred"
   ]
  },
  {
   "cell_type": "code",
   "execution_count": 8,
   "metadata": {
    "id": "I4m8vb7E79dg"
   },
   "outputs": [],
   "source": [
    "def extract_features(x):\n",
    "#     lang_list = list(enumerate(np.unique(x['lang'])))\n",
    "#     lang_dict = { name : i for i, name in lang_list }\n",
    "#     x.loc[:,'lang_code'] = x['lang'].map( lambda x: lang_dict[x]).astype(int)\n",
    "    feature_columns_to_use = ['statuses_count','followers_count','friends_count','favourites_count','listed_count']\n",
    "    x=x.loc[:,feature_columns_to_use]\n",
    "    return x"
   ]
  },
  {
   "cell_type": "code",
   "execution_count": 9,
   "metadata": {
    "colab": {
     "base_uri": "https://localhost:8080/",
     "height": 355
    },
    "id": "zaGXnHu57ZGN",
    "outputId": "cece420c-c464-428a-ece9-d3fb00510985"
   },
   "outputs": [
    {
     "name": "stdout",
     "output_type": "stream",
     "text": [
      "reading datasets.....\n",
      "\n"
     ]
    },
    {
     "data": {
      "text/html": [
       "<div>\n",
       "<style scoped>\n",
       "    .dataframe tbody tr th:only-of-type {\n",
       "        vertical-align: middle;\n",
       "    }\n",
       "\n",
       "    .dataframe tbody tr th {\n",
       "        vertical-align: top;\n",
       "    }\n",
       "\n",
       "    .dataframe thead th {\n",
       "        text-align: right;\n",
       "    }\n",
       "</style>\n",
       "<table border=\"1\" class=\"dataframe\">\n",
       "  <thead>\n",
       "    <tr style=\"text-align: right;\">\n",
       "      <th></th>\n",
       "      <th>id</th>\n",
       "      <th>statuses_count</th>\n",
       "      <th>followers_count</th>\n",
       "      <th>friends_count</th>\n",
       "      <th>favourites_count</th>\n",
       "      <th>listed_count</th>\n",
       "      <th>default_profile</th>\n",
       "      <th>default_profile_image</th>\n",
       "      <th>geo_enabled</th>\n",
       "      <th>profile_use_background_image</th>\n",
       "      <th>profile_background_tile</th>\n",
       "      <th>utc_offset</th>\n",
       "      <th>protected</th>\n",
       "      <th>verified</th>\n",
       "    </tr>\n",
       "  </thead>\n",
       "  <tbody>\n",
       "    <tr>\n",
       "      <th>count</th>\n",
       "      <td>2.818000e+03</td>\n",
       "      <td>2818.000000</td>\n",
       "      <td>2818.000000</td>\n",
       "      <td>2818.000000</td>\n",
       "      <td>2818.000000</td>\n",
       "      <td>2818.000000</td>\n",
       "      <td>1728.0</td>\n",
       "      <td>8.0</td>\n",
       "      <td>721.0</td>\n",
       "      <td>2760.0</td>\n",
       "      <td>489.0</td>\n",
       "      <td>1069.000000</td>\n",
       "      <td>0.0</td>\n",
       "      <td>0.0</td>\n",
       "    </tr>\n",
       "    <tr>\n",
       "      <th>mean</th>\n",
       "      <td>5.374889e+08</td>\n",
       "      <td>1672.198368</td>\n",
       "      <td>371.105039</td>\n",
       "      <td>395.363023</td>\n",
       "      <td>234.541164</td>\n",
       "      <td>2.818666</td>\n",
       "      <td>1.0</td>\n",
       "      <td>1.0</td>\n",
       "      <td>1.0</td>\n",
       "      <td>1.0</td>\n",
       "      <td>1.0</td>\n",
       "      <td>1478.391020</td>\n",
       "      <td>NaN</td>\n",
       "      <td>NaN</td>\n",
       "    </tr>\n",
       "    <tr>\n",
       "      <th>std</th>\n",
       "      <td>2.977005e+08</td>\n",
       "      <td>4884.669157</td>\n",
       "      <td>8022.631339</td>\n",
       "      <td>465.694322</td>\n",
       "      <td>1445.847248</td>\n",
       "      <td>23.480430</td>\n",
       "      <td>0.0</td>\n",
       "      <td>0.0</td>\n",
       "      <td>0.0</td>\n",
       "      <td>0.0</td>\n",
       "      <td>0.0</td>\n",
       "      <td>8108.211889</td>\n",
       "      <td>NaN</td>\n",
       "      <td>NaN</td>\n",
       "    </tr>\n",
       "    <tr>\n",
       "      <th>min</th>\n",
       "      <td>3.610511e+06</td>\n",
       "      <td>0.000000</td>\n",
       "      <td>0.000000</td>\n",
       "      <td>0.000000</td>\n",
       "      <td>0.000000</td>\n",
       "      <td>0.000000</td>\n",
       "      <td>1.0</td>\n",
       "      <td>1.0</td>\n",
       "      <td>1.0</td>\n",
       "      <td>1.0</td>\n",
       "      <td>1.0</td>\n",
       "      <td>-39600.000000</td>\n",
       "      <td>NaN</td>\n",
       "      <td>NaN</td>\n",
       "    </tr>\n",
       "    <tr>\n",
       "      <th>25%</th>\n",
       "      <td>3.620867e+08</td>\n",
       "      <td>35.000000</td>\n",
       "      <td>17.000000</td>\n",
       "      <td>168.000000</td>\n",
       "      <td>0.000000</td>\n",
       "      <td>0.000000</td>\n",
       "      <td>1.0</td>\n",
       "      <td>1.0</td>\n",
       "      <td>1.0</td>\n",
       "      <td>1.0</td>\n",
       "      <td>1.0</td>\n",
       "      <td>3600.000000</td>\n",
       "      <td>NaN</td>\n",
       "      <td>NaN</td>\n",
       "    </tr>\n",
       "    <tr>\n",
       "      <th>50%</th>\n",
       "      <td>6.162253e+08</td>\n",
       "      <td>77.000000</td>\n",
       "      <td>26.000000</td>\n",
       "      <td>306.000000</td>\n",
       "      <td>0.000000</td>\n",
       "      <td>0.000000</td>\n",
       "      <td>1.0</td>\n",
       "      <td>1.0</td>\n",
       "      <td>1.0</td>\n",
       "      <td>1.0</td>\n",
       "      <td>1.0</td>\n",
       "      <td>3600.000000</td>\n",
       "      <td>NaN</td>\n",
       "      <td>NaN</td>\n",
       "    </tr>\n",
       "    <tr>\n",
       "      <th>75%</th>\n",
       "      <td>6.177673e+08</td>\n",
       "      <td>1087.750000</td>\n",
       "      <td>111.000000</td>\n",
       "      <td>519.000000</td>\n",
       "      <td>37.000000</td>\n",
       "      <td>1.000000</td>\n",
       "      <td>1.0</td>\n",
       "      <td>1.0</td>\n",
       "      <td>1.0</td>\n",
       "      <td>1.0</td>\n",
       "      <td>1.0</td>\n",
       "      <td>3600.000000</td>\n",
       "      <td>NaN</td>\n",
       "      <td>NaN</td>\n",
       "    </tr>\n",
       "    <tr>\n",
       "      <th>max</th>\n",
       "      <td>1.391998e+09</td>\n",
       "      <td>79876.000000</td>\n",
       "      <td>408372.000000</td>\n",
       "      <td>12773.000000</td>\n",
       "      <td>44349.000000</td>\n",
       "      <td>744.000000</td>\n",
       "      <td>1.0</td>\n",
       "      <td>1.0</td>\n",
       "      <td>1.0</td>\n",
       "      <td>1.0</td>\n",
       "      <td>1.0</td>\n",
       "      <td>36000.000000</td>\n",
       "      <td>NaN</td>\n",
       "      <td>NaN</td>\n",
       "    </tr>\n",
       "  </tbody>\n",
       "</table>\n",
       "</div>"
      ],
      "text/plain": [
       "                 id  statuses_count  followers_count  friends_count  \\\n",
       "count  2.818000e+03     2818.000000      2818.000000    2818.000000   \n",
       "mean   5.374889e+08     1672.198368       371.105039     395.363023   \n",
       "std    2.977005e+08     4884.669157      8022.631339     465.694322   \n",
       "min    3.610511e+06        0.000000         0.000000       0.000000   \n",
       "25%    3.620867e+08       35.000000        17.000000     168.000000   \n",
       "50%    6.162253e+08       77.000000        26.000000     306.000000   \n",
       "75%    6.177673e+08     1087.750000       111.000000     519.000000   \n",
       "max    1.391998e+09    79876.000000    408372.000000   12773.000000   \n",
       "\n",
       "       favourites_count  listed_count  default_profile  default_profile_image  \\\n",
       "count       2818.000000   2818.000000           1728.0                    8.0   \n",
       "mean         234.541164      2.818666              1.0                    1.0   \n",
       "std         1445.847248     23.480430              0.0                    0.0   \n",
       "min            0.000000      0.000000              1.0                    1.0   \n",
       "25%            0.000000      0.000000              1.0                    1.0   \n",
       "50%            0.000000      0.000000              1.0                    1.0   \n",
       "75%           37.000000      1.000000              1.0                    1.0   \n",
       "max        44349.000000    744.000000              1.0                    1.0   \n",
       "\n",
       "       geo_enabled  profile_use_background_image  profile_background_tile  \\\n",
       "count        721.0                        2760.0                    489.0   \n",
       "mean           1.0                           1.0                      1.0   \n",
       "std            0.0                           0.0                      0.0   \n",
       "min            1.0                           1.0                      1.0   \n",
       "25%            1.0                           1.0                      1.0   \n",
       "50%            1.0                           1.0                      1.0   \n",
       "75%            1.0                           1.0                      1.0   \n",
       "max            1.0                           1.0                      1.0   \n",
       "\n",
       "         utc_offset  protected  verified  \n",
       "count   1069.000000        0.0       0.0  \n",
       "mean    1478.391020        NaN       NaN  \n",
       "std     8108.211889        NaN       NaN  \n",
       "min   -39600.000000        NaN       NaN  \n",
       "25%     3600.000000        NaN       NaN  \n",
       "50%     3600.000000        NaN       NaN  \n",
       "75%     3600.000000        NaN       NaN  \n",
       "max    36000.000000        NaN       NaN  "
      ]
     },
     "execution_count": 9,
     "metadata": {},
     "output_type": "execute_result"
    }
   ],
   "source": [
    "print(\"reading datasets.....\\n\")\n",
    "x,y=read_datasets()\n",
    "x.describe()"
   ]
  },
  {
   "cell_type": "code",
   "execution_count": 10,
   "metadata": {
    "colab": {
     "base_uri": "https://localhost:8080/"
    },
    "id": "yKwyOFShFbmj",
    "outputId": "00a5eb41-a50b-4248-9c89-ae537a2be2f2"
   },
   "outputs": [
    {
     "name": "stdout",
     "output_type": "stream",
     "text": [
      "extracting featues.....\n",
      "\n",
      "Index(['statuses_count', 'followers_count', 'friends_count',\n",
      "       'favourites_count', 'listed_count'],\n",
      "      dtype='object')\n",
      "       statuses_count  followers_count  friends_count  favourites_count  \\\n",
      "count     2818.000000      2818.000000    2818.000000       2818.000000   \n",
      "mean      1672.198368       371.105039     395.363023        234.541164   \n",
      "std       4884.669157      8022.631339     465.694322       1445.847248   \n",
      "min          0.000000         0.000000       0.000000          0.000000   \n",
      "25%         35.000000        17.000000     168.000000          0.000000   \n",
      "50%         77.000000        26.000000     306.000000          0.000000   \n",
      "75%       1087.750000       111.000000     519.000000         37.000000   \n",
      "max      79876.000000    408372.000000   12773.000000      44349.000000   \n",
      "\n",
      "       listed_count  \n",
      "count   2818.000000  \n",
      "mean       2.818666  \n",
      "std       23.480430  \n",
      "min        0.000000  \n",
      "25%        0.000000  \n",
      "50%        0.000000  \n",
      "75%        1.000000  \n",
      "max      744.000000  \n"
     ]
    }
   ],
   "source": [
    "print(\"extracting featues.....\\n\")\n",
    "x=extract_features(x)\n",
    "print(x.columns)\n",
    "print(x.describe())"
   ]
  },
  {
   "cell_type": "code",
   "execution_count": 11,
   "metadata": {
    "colab": {
     "base_uri": "https://localhost:8080/"
    },
    "id": "bufc5PvN8crg",
    "outputId": "36ce8bd1-9c07-451c-90ed-60403ffdb916"
   },
   "outputs": [
    {
     "name": "stdout",
     "output_type": "stream",
     "text": [
      "spliting datasets in train and test dataset...\n",
      "\n"
     ]
    }
   ],
   "source": [
    "print(\"spliting datasets in train and test dataset...\\n\")\n",
    "X_train,X_test,y_train,y_test = train_test_split(x, y, test_size=0.20, random_state=44)"
   ]
  },
  {
   "cell_type": "code",
   "execution_count": 12,
   "metadata": {
    "colab": {
     "base_uri": "https://localhost:8080/",
     "height": 559
    },
    "id": "SEyT_Eil-vY-",
    "outputId": "13b6c2ed-bc79-4098-b8f6-464f6cc9983f"
   },
   "outputs": [
    {
     "name": "stdout",
     "output_type": "stream",
     "text": [
      "training datasets.......\n",
      "\n",
      "The best classifier is:  RandomForestClassifier(n_estimators=40, oob_score=True)\n",
      "[0.92461197 0.93791574 0.94456763 0.94678492 0.93111111]\n",
      "Estimated score: 0.93700 (+/- 0.00414)\n"
     ]
    },
    {
     "data": {
      "image/png": "[encoded data removed]",
      "text/plain": [
       "<Figure size 432x288 with 1 Axes>"
      ]
     },
     "metadata": {
      "needs_background": "light"
     },
     "output_type": "display_data"
    }
   ],
   "source": [
    "print(\"training datasets.......\\n\")\n",
    "y_test,y_pred = train(X_train,y_train,X_test)"
   ]
  },
  {
   "cell_type": "code",
   "execution_count": 13,
   "metadata": {
    "colab": {
     "base_uri": "https://localhost:8080/"
    },
    "id": "1G-lobLu-vWz",
    "outputId": "adfac2bf-0c15-4ef6-a3cd-c13408cc6134"
   },
   "outputs": [
    {
     "name": "stdout",
     "output_type": "stream",
     "text": [
      "Classification Accuracy on Test dataset:  0.9397163120567376\n"
     ]
    }
   ],
   "source": [
    "  print('Classification Accuracy on Test dataset: ' ,accuracy_score(y_test, y_pred))"
   ]
  },
  {
   "cell_type": "code",
   "execution_count": 14,
   "metadata": {
    "colab": {
     "base_uri": "https://localhost:8080/",
     "height": 558
    },
    "id": "b1lBJraT-vUO",
    "outputId": "eb0cc52d-b0a1-42b4-cccf-f20a284a8020"
   },
   "outputs": [
    {
     "name": "stdout",
     "output_type": "stream",
     "text": [
      "Confusion matrix, without normalization\n",
      "[[265   3]\n",
      " [ 31 265]]\n"
     ]
    },
    {
     "data": {
      "image/png": "[encoded data removed]",
      "text/plain": [
       "<Figure size 432x288 with 2 Axes>"
      ]
     },
     "metadata": {
      "needs_background": "light"
     },
     "output_type": "display_data"
    }
   ],
   "source": [
    "cm=confusion_matrix(y_test, y_pred)\n",
    "print('Confusion matrix, without normalization')\n",
    "print(cm)\n",
    "plot_confusion_matrix(cm)"
   ]
  },
  {
   "cell_type": "code",
   "execution_count": 15,
   "metadata": {
    "colab": {
     "base_uri": "https://localhost:8080/",
     "height": 558
    },
    "id": "ouR59PLs-uCp",
    "outputId": "cac59453-2987-4904-8a97-001aa87ef342"
   },
   "outputs": [
    {
     "name": "stdout",
     "output_type": "stream",
     "text": [
      "Normalized confusion matrix\n",
      "[[0.98880597 0.01119403]\n",
      " [0.10472973 0.89527027]]\n"
     ]
    },
    {
     "data": {
      "image/png": "[encoded data removed]",
      "text/plain": [
       "<Figure size 432x288 with 2 Axes>"
      ]
     },
     "metadata": {
      "needs_background": "light"
     },
     "output_type": "display_data"
    }
   ],
   "source": [
    "cm_normalized = cm.astype('float') / cm.sum(axis=1)[:, np.newaxis]\n",
    "print('Normalized confusion matrix')\n",
    "print(cm_normalized)\n",
    "plot_confusion_matrix(cm_normalized, title='Normalized confusion matrix')"
   ]
  },
  {
   "cell_type": "code",
   "execution_count": 16,
   "metadata": {
    "colab": {
     "base_uri": "https://localhost:8080/"
    },
    "id": "6MGyq3eS_gTY",
    "outputId": "634d5548-0326-42e8-bde5-f33fdce71776"
   },
   "outputs": [
    {
     "name": "stdout",
     "output_type": "stream",
     "text": [
      "              precision    recall  f1-score   support\n",
      "\n",
      "        Fake       0.90      0.99      0.94       268\n",
      "     Genuine       0.99      0.90      0.94       296\n",
      "\n",
      "    accuracy                           0.94       564\n",
      "   macro avg       0.94      0.94      0.94       564\n",
      "weighted avg       0.94      0.94      0.94       564\n",
      "\n"
     ]
    }
   ],
   "source": [
    "print(classification_report(y_test, y_pred, target_names=['Fake','Genuine']))"
   ]
  },
  {
   "cell_type": "code",
   "execution_count": 17,
   "metadata": {
    "colab": {
     "base_uri": "https://localhost:8080/",
     "height": 507
    },
    "id": "Cf0xSJgi_gRB",
    "outputId": "2598e78b-3078-45a3-ade0-eaf0c108d73f"
   },
   "outputs": [
    {
     "name": "stdout",
     "output_type": "stream",
     "text": [
      "False Positive rate:  [0.         0.01119403 1.        ]\n",
      "True Positive rate:  [0.         0.89527027 1.        ]\n"
     ]
    },
    {
     "data": {
      "image/png": "[encoded data removed]",
      "text/plain": [
       "<Figure size 432x288 with 1 Axes>"
      ]
     },
     "metadata": {
      "needs_background": "light"
     },
     "output_type": "display_data"
    }
   ],
   "source": [
    "plot_roc_curve(y_test, y_pred)"
   ]
  },
  {
   "cell_type": "code",
   "execution_count": 20,
   "metadata": {},
   "outputs": [
    {
     "name": "stdout",
     "output_type": "stream",
     "text": [
      "Username: elonmusk\n",
      "Predicted class for user input data:Genuine , [1]\n"
     ]
    },
    {
     "name": "stderr",
     "output_type": "stream",
     "text": [
      "C:\\temp\\lib\\site-packages\\sklearn\\base.py:450: UserWarning: X does not have valid feature names, but RandomForestClassifier was fitted with feature names\n",
      "  warnings.warn(\n"
     ]
    }
   ],
   "source": [
    "def extract_attributes(screen_name):\n",
    "#     if user.lang == None:\n",
    "#         user.lang = 0\n",
    "    attributes = [\n",
    "        user.statuses_count,\n",
    "        user.followers_count,\n",
    "        user.friends_count,\n",
    "        user.favourites_count,\n",
    "        user.listed_count\n",
    "    ]\n",
    "    return attributes\n",
    "\n",
    "username = input(\"Username: \")\n",
    "consumer_key = 'VJIDY5GYCHb0AzN2N6Cm40IfJ'\n",
    "consumer_secret = 'dphVWC1o3XUWX7txu8RTDUOejWwLl5z8tt0Hr9EGUILoJ1pNPU'\n",
    "access_token = '1587694575665020928-ORtPOJt3fSqhkJkB32ruqHEljtdqAt'\n",
    "access_token_secret = 'DLKe3M7b056NPMHdc4hWcArc5dqvmT2AbbtqluSPTqyYP'\n",
    "auth = tweepy.OAuthHandler(consumer_key, consumer_secret)\n",
    "auth.set_access_token(access_token, access_token_secret)\n",
    "api = tweepy.API(auth, wait_on_rate_limit=True)\n",
    "api = tweepy.API(auth)\n",
    "user = api.get_user(screen_name=username)\n",
    "name = user._json\n",
    "        \n",
    "clf=RandomForestClassifier(n_estimators=40,oob_score=True)\n",
    "model = clf.fit(X_train,y_train)\n",
    "sample1 = ([extract_attributes(name)])\n",
    "prediction = clf.predict(sample1)\n",
    "if prediction == 0 :\n",
    "    ans = \"Fake\"\n",
    "else:\n",
    "    ans = \"Genuine\"\n",
    "print(f\"Predicted class for user input data:{ans} , {prediction}\".format())"
   ]
  },
  {
   "cell_type": "code",
   "execution_count": 24,
   "metadata": {},
   "outputs": [],
   "source": [
    "import pickle"
   ]
  },
  {
   "cell_type": "code",
   "execution_count": 25,
   "metadata": {},
   "outputs": [],
   "source": [
    "pickle.dump(clf, open('model.pkl', 'wb'))"
   ]
  },
  {
   "cell_type": "code",
   "execution_count": null,
   "metadata": {},
   "outputs": [],
   "source": []
  }
 ],
 "metadata": {
  "colab": {
   "provenance": []
  },
  "kernelspec": {
   "display_name": "Python 3 (ipykernel)",
   "language": "python",
   "name": "python3"
  },
  "language_info": {
   "codemirror_mode": {
    "name": "ipython",
    "version": 3
   },
   "file_extension": ".py",
   "mimetype": "text/x-python",
   "name": "python",
   "nbconvert_exporter": "python",
   "pygments_lexer": "ipython3",
   "version": "3.9.12"
  }
 },
 "nbformat": 4,
 "nbformat_minor": 1
}
